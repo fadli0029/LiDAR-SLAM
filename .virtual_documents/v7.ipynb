


%load_ext autoreload
%autoreload 2





from modules.ogm import *
from modules.utils import *
from modules.sensors import *
from modules.localization import *
from modules.texture_mapping import *
from modules.pose_graph_optimization import *

import numpy as np
from math import radians as rd
import matplotlib.pyplot as plt

#----------------------------------------------------------------------------
# Loading data and syncing sensors
dataset_num = 20 # or 21
dataset_names = {
    "encoder": "Encoders",
    "lidar": "Hokuyo",
    "imu": "Imu",
    "rgbd": "Kinect",
}

data = load_data(dataset_num, dataset_names)
encoder = Encoder(data["encoder"])
lidar = Lidar(data["lidar"])
imu = Imu(data["imu"])
kinect = Kinect(data["rgbd"])

synchronize_sensors(encoder, imu, lidar, base_sensor_index=0)
#----------------------------------------------------------------------------

# Estimate poses
z_ts = get_lidar_data(lidar.ranges_synced, lidar.range_min, lidar.range_max)
v_ts = encoder.counts_synced
w_ts = imu.gyro_synced
poses_odom, relative_poses_odom = poses_from_odometry(v_ts, w_ts, return_relative_poses=True)
poses_scan_matching, relative_poses_scan_matching = poses_from_scan_matching(poses_odom, z_ts, return_relative_poses=True)


plot_trajectories(poses_odom, poses_scan_matching)


optimized_poses = pose_graph_optimization(poses_odom, relative_poses_scan_matching)


# #----------------------------------------------------------------------------
# # Build occupancy grid map
# # access map with ogm.grid_map, access log odd map with ogm.grid_map_log_odds
# res = 0.05
# ogm = OccupancyGridMap(res, 30., 30., -30., -30.)
# ogm.build_map(x_ts, z_ts)
# #----------------------------------------------------------------------------


# ogm.plot_log_odds_map()


# ogm.plot_map()


# # Transformation from camera frame to robot's body frame (obtained from CAD)
# p_rc = np.array([0.16766, 0., 0.38001])
# R_rc = np.array([
#     [ np.cos(rd(18.)), 0, np.sin(rd(18.))],
#     [               0, 1,               0],
#     [-np.sin(rd(18.)), 0, np.cos(rd(18.))]
# ])
# T_rc = np.eye(4)
# T_rc[:3, :3]  = R_rc
# T_rc[:3,  3]  = p_rc

# # Camera's intrinsic matrix
# K = np.array([
#     [585.05,      0, 242.94],
#     [     0, 585.05, 315.84],
#     [     0,      0,      1]
# ])

# texture_map = generate_texture_map(
#     dataset_num,
#     x_ts,
#     kinect,
#     encoder,
#     ogm,
#     T_rc,
#     K
# )


# plot_texture_map(texture_map)
